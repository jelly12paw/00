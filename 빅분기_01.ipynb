{
  "nbformat": 4,
  "nbformat_minor": 0,
  "metadata": {
    "colab": {
      "name": "빅분기_01.ipynb",
      "provenance": [],
      "authorship_tag": "ABX9TyPTB+80w/m7Az4ERHz+1PTf",
      "include_colab_link": true
    },
    "kernelspec": {
      "name": "python3",
      "display_name": "Python 3"
    },
    "language_info": {
      "name": "python"
    }
  },
  "cells": [
    {
      "cell_type": "markdown",
      "metadata": {
        "id": "view-in-github",
        "colab_type": "text"
      },
      "source": [
        "<a href=\"https://colab.research.google.com/github/jelly12paw/00/blob/main/%EB%B9%85%EB%B6%84%EA%B8%B0_01.ipynb\" target=\"_parent\"><img src=\"https://colab.research.google.com/assets/colab-badge.svg\" alt=\"Open In Colab\"/></a>"
      ]
    },
    {
      "cell_type": "code",
      "execution_count": null,
      "metadata": {
        "colab": {
          "base_uri": "https://localhost:8080/"
        },
        "id": "tO6NSAC6EY6u",
        "outputId": "5a50ba6f-7c6a-440c-8afa-58c671f7516f"
      },
      "outputs": [
        {
          "output_type": "stream",
          "name": "stdout",
          "text": [
            "첫번째 파이썬 프로그래밍\n"
          ]
        }
      ],
      "source": [
        "print(\"첫번째 파이썬 프로그래밍\")"
      ]
    },
    {
      "cell_type": "code",
      "source": [
        "a=1\n",
        "print(a)"
      ],
      "metadata": {
        "colab": {
          "base_uri": "https://localhost:8080/"
        },
        "id": "9Fax4oYuE1W2",
        "outputId": "10f69e5d-c014-4ced-8eee-2e6ae392198d"
      },
      "execution_count": null,
      "outputs": [
        {
          "output_type": "stream",
          "name": "stdout",
          "text": [
            "1\n"
          ]
        }
      ]
    },
    {
      "cell_type": "code",
      "source": [
        "b=5\n",
        "a=b\n",
        "print(a)"
      ],
      "metadata": {
        "colab": {
          "base_uri": "https://localhost:8080/"
        },
        "id": "Vbu60axXGa3T",
        "outputId": "608b6225-ab34-403a-e650-af9c1b5185b2"
      },
      "execution_count": null,
      "outputs": [
        {
          "output_type": "stream",
          "name": "stdout",
          "text": [
            "5\n"
          ]
        }
      ]
    },
    {
      "cell_type": "code",
      "source": [
        "num1 = [1, 2, 3, 4, 5]\n",
        "print(num1[3])\n",
        "num1[2]"
      ],
      "metadata": {
        "colab": {
          "base_uri": "https://localhost:8080/"
        },
        "id": "e5ks3_sAGpnw",
        "outputId": "e7a27d7f-cc0d-4177-bc12-0bc1175cfd2f"
      },
      "execution_count": null,
      "outputs": [
        {
          "output_type": "stream",
          "name": "stdout",
          "text": [
            "4\n"
          ]
        },
        {
          "output_type": "execute_result",
          "data": {
            "text/plain": [
              "3"
            ]
          },
          "metadata": {},
          "execution_count": 9
        }
      ]
    },
    {
      "cell_type": "code",
      "source": [
        "a = 1\n",
        "b = 5\n",
        "c = 3.3\n",
        "d = 0.5\n",
        "print(a, b, c, d)"
      ],
      "metadata": {
        "colab": {
          "base_uri": "https://localhost:8080/"
        },
        "id": "WHGip43GHA1t",
        "outputId": "1fd4859b-0e99-459e-b792-65f3a6143a52"
      },
      "execution_count": null,
      "outputs": [
        {
          "output_type": "stream",
          "name": "stdout",
          "text": [
            "1 5 3.3 0.5\n"
          ]
        }
      ]
    },
    {
      "cell_type": "code",
      "source": [
        "a = 10\n",
        "b = 5\n",
        "c = 3\n",
        "print(a + b, a - b, a * b, a / b)\n",
        "print(a**c, a//c, a%c)"
      ],
      "metadata": {
        "colab": {
          "base_uri": "https://localhost:8080/"
        },
        "id": "DIVF68XyHekw",
        "outputId": "27b46864-d8a5-4860-8a7e-56a6da785051"
      },
      "execution_count": null,
      "outputs": [
        {
          "output_type": "stream",
          "name": "stdout",
          "text": [
            "15 5 50 2.0\n",
            "1000 3 1\n"
          ]
        }
      ]
    },
    {
      "cell_type": "code",
      "source": [
        "str1 = \"python\"\n",
        "str2 = \"programming\"\n",
        "print(str1+str2)\n",
        "print(str1*2)"
      ],
      "metadata": {
        "colab": {
          "base_uri": "https://localhost:8080/"
        },
        "id": "u-fdjOvjHl1D",
        "outputId": "e0c3a784-336b-4f18-9655-10c805a45764"
      },
      "execution_count": null,
      "outputs": [
        {
          "output_type": "stream",
          "name": "stdout",
          "text": [
            "pythonprogramming\n",
            "pythonpython\n"
          ]
        }
      ]
    },
    {
      "cell_type": "code",
      "source": [
        "str = \"python programming\"\n",
        "print(str[0], str[1], str[10])\n",
        "print(str[0:4])\n",
        "print(str[5:9])"
      ],
      "metadata": {
        "colab": {
          "base_uri": "https://localhost:8080/"
        },
        "id": "uuJvL7KmIhHx",
        "outputId": "3206d2d4-fedf-4758-d249-b370ee8240b1"
      },
      "execution_count": null,
      "outputs": [
        {
          "output_type": "stream",
          "name": "stdout",
          "text": [
            "p y g\n",
            "pyth\n",
            "n pr\n"
          ]
        }
      ]
    },
    {
      "cell_type": "code",
      "source": [
        "print(\"오늘은 %d일 입니다.\" %14)\n",
        "print(\"오늘은 %s 입니다.\" %\"수요일\")\n",
        "print(\"지금 온도는 %f도 입니다.\" %32.7)\n",
        "print(\"지금 온도는 %0.2f도 입니다.\" %32.7)"
      ],
      "metadata": {
        "colab": {
          "base_uri": "https://localhost:8080/"
        },
        "id": "WJBwiP2OI12k",
        "outputId": "51d32b24-f723-4e6d-85f8-8cf8dbda9973"
      },
      "execution_count": null,
      "outputs": [
        {
          "output_type": "stream",
          "name": "stdout",
          "text": [
            "오늘은 14일 입니다.\n",
            "오늘은 수요일 입니다.\n",
            "지금 온도는 32.700000도 입니다.\n",
            "지금 온도는 32.70도 입니다.\n"
          ]
        }
      ]
    },
    {
      "cell_type": "code",
      "source": [
        "str = \"파이썬\\n프로그래밍\"\n",
        "print(str)"
      ],
      "metadata": {
        "colab": {
          "base_uri": "https://localhost:8080/"
        },
        "id": "L57kOij5J5el",
        "outputId": "f492f69f-b54d-47a4-bd8f-862cb5bd8e01"
      },
      "execution_count": null,
      "outputs": [
        {
          "output_type": "stream",
          "name": "stdout",
          "text": [
            "파이썬\n",
            "프로그래밍\n"
          ]
        }
      ]
    },
    {
      "cell_type": "code",
      "source": [
        "str = \"Python Programming\"\n",
        "print(str.count('y'))\n",
        "print(str.find('m'))\n",
        "print(str.upper())\n",
        "print(str.lower())\n",
        "print(str.replace('Python','Java'))\n",
        "print(str.split())\n",
        "print('^'.join(str))"
      ],
      "metadata": {
        "colab": {
          "base_uri": "https://localhost:8080/"
        },
        "id": "6HDYfnHZKVyF",
        "outputId": "9f396a86-4bee-42f1-fd61-6ff5ab7c41cc"
      },
      "execution_count": null,
      "outputs": [
        {
          "output_type": "stream",
          "name": "stdout",
          "text": [
            "1\n",
            "13\n",
            "PYTHON PROGRAMMING\n",
            "python programming\n",
            "Java Programming\n",
            "['Python', 'Programming']\n",
            "P^y^t^h^o^n^ ^P^r^o^g^r^a^m^m^i^n^g\n"
          ]
        }
      ]
    },
    {
      "cell_type": "code",
      "source": [
        "a = 20\n",
        "b = 10\n",
        "\n",
        "print(a > b)\n",
        "print(a < b)\n",
        "print(a >= b)\n",
        "print(a <= b)\n",
        "print(a == b)\n",
        "print(a != b)"
      ],
      "metadata": {
        "colab": {
          "base_uri": "https://localhost:8080/"
        },
        "id": "sl9ZCIYFLUa1",
        "outputId": "fb3b772e-0c3d-440d-eb00-5713759e53b6"
      },
      "execution_count": null,
      "outputs": [
        {
          "output_type": "stream",
          "name": "stdout",
          "text": [
            "True\n",
            "False\n",
            "True\n",
            "False\n",
            "False\n",
            "True\n"
          ]
        }
      ]
    },
    {
      "cell_type": "code",
      "source": [
        "a = 10\n",
        "\n",
        "if(a > 0) :\n",
        "  print('a는 양의 정수입니다.')"
      ],
      "metadata": {
        "colab": {
          "base_uri": "https://localhost:8080/"
        },
        "id": "SnR0Li0sMf7J",
        "outputId": "61fb9250-e125-41bb-cf9e-7de6fc8c2d3e"
      },
      "execution_count": null,
      "outputs": [
        {
          "output_type": "stream",
          "name": "stdout",
          "text": [
            "a는 양의 정수입니다.\n"
          ]
        }
      ]
    },
    {
      "cell_type": "code",
      "source": [
        "if (a < 0) :\n",
        "  print('a는 음의 정수입니다.')\n",
        "\n",
        "print(a)"
      ],
      "metadata": {
        "colab": {
          "base_uri": "https://localhost:8080/"
        },
        "id": "PAfgA3VoN99J",
        "outputId": "1c6a857b-2151-477d-acf2-2e7e3eff3523"
      },
      "execution_count": null,
      "outputs": [
        {
          "output_type": "stream",
          "name": "stdout",
          "text": [
            "10\n"
          ]
        }
      ]
    },
    {
      "cell_type": "code",
      "source": [
        "a = -10\n",
        "\n",
        "if (a > 0) :\n",
        "  print('a는 %d입니다.' %a)\n",
        "  print('a는 양의 정수입니다.')\n",
        "\n",
        "else :\n",
        "  print('a는 %d입니다.' %a)\n",
        "  print('a는 음의 정수입니다.')"
      ],
      "metadata": {
        "colab": {
          "base_uri": "https://localhost:8080/"
        },
        "id": "ilETrVe_PZ2l",
        "outputId": "fcdc72f1-4d2b-474c-aff7-1f20784f7493"
      },
      "execution_count": null,
      "outputs": [
        {
          "output_type": "stream",
          "name": "stdout",
          "text": [
            "a는 -10입니다.\n",
            "a는 음의 정수입니다.\n"
          ]
        }
      ]
    },
    {
      "cell_type": "code",
      "source": [
        "a = 0\n",
        "\n",
        "if (a > 0) :\n",
        "  print('a는 양의 정수입니다')\n",
        "elif (a == 0) :\n",
        "  print('a는 0입니다.')\n",
        "else :\n",
        "  print('a는 음의 정수입니다.') "
      ],
      "metadata": {
        "colab": {
          "base_uri": "https://localhost:8080/"
        },
        "id": "-BkL5LyzP8Af",
        "outputId": "20cabc9d-008c-4380-b3ef-54faffeacf9d"
      },
      "execution_count": null,
      "outputs": [
        {
          "output_type": "stream",
          "name": "stdout",
          "text": [
            "a는 0입니다.\n"
          ]
        }
      ]
    },
    {
      "cell_type": "code",
      "source": [
        "a = int(input('첫번째 수를 입력하세요'))\n",
        "b = int(input('두번째 수를 입력하세요'))\n",
        "c = int(input('세번째 수를 입력하세요'))\n",
        "\n",
        "if (a >= b) :\n",
        "  big = a\n",
        "else : big = b\n",
        "\n",
        "if (c >= big) :\n",
        "  print('가장 큰 수는 %d입니다.' %c)\n",
        "else :\n",
        "  print('가장 큰 수는 %d입니다.' %big)"
      ],
      "metadata": {
        "colab": {
          "base_uri": "https://localhost:8080/"
        },
        "id": "iM097wRGQT2N",
        "outputId": "2fb0d11b-82ff-4ad1-e608-8a612173c012"
      },
      "execution_count": null,
      "outputs": [
        {
          "output_type": "stream",
          "name": "stdout",
          "text": [
            "첫번째 수를 입력하세요100\n",
            "두번째 수를 입력하세요50\n",
            "세번째 수를 입력하세요101\n",
            "가장 큰 수는 101입니다.\n"
          ]
        }
      ]
    },
    {
      "cell_type": "code",
      "source": [
        "for i in range(5) :\n",
        "  print(i)"
      ],
      "metadata": {
        "colab": {
          "base_uri": "https://localhost:8080/"
        },
        "id": "AUEmvfgORX4C",
        "outputId": "84f5e148-6657-42a5-aee0-86100baf7ccb"
      },
      "execution_count": null,
      "outputs": [
        {
          "output_type": "stream",
          "name": "stdout",
          "text": [
            "0\n",
            "1\n",
            "2\n",
            "3\n",
            "4\n"
          ]
        }
      ]
    },
    {
      "cell_type": "code",
      "source": [
        "sum = 0\n",
        "\n",
        "for i in range(1, 6) :\n",
        "  sum = sum + i\n",
        "  print('i의 값 :', i, '합계 :', sum)"
      ],
      "metadata": {
        "colab": {
          "base_uri": "https://localhost:8080/"
        },
        "id": "2clCMiGeRowI",
        "outputId": "3fa0a95a-76df-43b3-cecf-be36aa435c6e"
      },
      "execution_count": null,
      "outputs": [
        {
          "output_type": "stream",
          "name": "stdout",
          "text": [
            "i의 값 : 1 합계 : 1\n",
            "i의 값 : 2 합계 : 3\n",
            "i의 값 : 3 합계 : 6\n",
            "i의 값 : 4 합계 : 10\n",
            "i의 값 : 5 합계 : 15\n"
          ]
        }
      ]
    },
    {
      "cell_type": "code",
      "source": [
        "for i in range(1, 10, 2) :\n",
        "  print(i, end=' ')  # end=' ' : 결과값을 하나의 줄에서 공백으로 구분하여 출력"
      ],
      "metadata": {
        "colab": {
          "base_uri": "https://localhost:8080/"
        },
        "id": "Ryw_FQ1sSFAp",
        "outputId": "d566ffb3-1ae9-491d-a5af-0b6f3e2dc9c1"
      },
      "execution_count": null,
      "outputs": [
        {
          "output_type": "stream",
          "name": "stdout",
          "text": [
            "1 3 5 7 9 "
          ]
        }
      ]
    },
    {
      "cell_type": "code",
      "source": [
        "for x in \"python\" :\n",
        "  print(x)"
      ],
      "metadata": {
        "colab": {
          "base_uri": "https://localhost:8080/"
        },
        "id": "kbwmqYz5kWDb",
        "outputId": "1fc0bf9b-78e1-4c2b-cb87-d5dd56d4facb"
      },
      "execution_count": null,
      "outputs": [
        {
          "output_type": "stream",
          "name": "stdout",
          "text": [
            "p\n",
            "y\n",
            "t\n",
            "h\n",
            "o\n",
            "n\n"
          ]
        }
      ]
    },
    {
      "cell_type": "code",
      "source": [
        "for i in range(1, 5) :\n",
        "  for j in range(1, 5) :\n",
        "    print(i*j, end=' ')\n",
        "  print()"
      ],
      "metadata": {
        "colab": {
          "base_uri": "https://localhost:8080/"
        },
        "id": "sjGZQ31ukjVf",
        "outputId": "67ffaf20-a2b6-4d34-c5bd-2962bbe7edbf"
      },
      "execution_count": null,
      "outputs": [
        {
          "output_type": "stream",
          "name": "stdout",
          "text": [
            "1 2 3 4 \n",
            "2 4 6 8 \n",
            "3 6 9 12 \n",
            "4 8 12 16 \n"
          ]
        }
      ]
    },
    {
      "cell_type": "code",
      "source": [
        "for i in range(2, 10) :\n",
        "  for j in range(1, 10) :\n",
        "    print('%d*%d=%d' %(i, j, i*j), end=' ')\n",
        "\n",
        "  print()"
      ],
      "metadata": {
        "colab": {
          "base_uri": "https://localhost:8080/"
        },
        "id": "MBgczE3-k2kx",
        "outputId": "10e5c56b-77fd-4556-879f-293febfa5d51"
      },
      "execution_count": null,
      "outputs": [
        {
          "output_type": "stream",
          "name": "stdout",
          "text": [
            "2*1=2 2*2=4 2*3=6 2*4=8 2*5=10 2*6=12 2*7=14 2*8=16 2*9=18 \n",
            "3*1=3 3*2=6 3*3=9 3*4=12 3*5=15 3*6=18 3*7=21 3*8=24 3*9=27 \n",
            "4*1=4 4*2=8 4*3=12 4*4=16 4*5=20 4*6=24 4*7=28 4*8=32 4*9=36 \n",
            "5*1=5 5*2=10 5*3=15 5*4=20 5*5=25 5*6=30 5*7=35 5*8=40 5*9=45 \n",
            "6*1=6 6*2=12 6*3=18 6*4=24 6*5=30 6*6=36 6*7=42 6*8=48 6*9=54 \n",
            "7*1=7 7*2=14 7*3=21 7*4=28 7*5=35 7*6=42 7*7=49 7*8=56 7*9=63 \n",
            "8*1=8 8*2=16 8*3=24 8*4=32 8*5=40 8*6=48 8*7=56 8*8=64 8*9=72 \n",
            "9*1=9 9*2=18 9*3=27 9*4=36 9*5=45 9*6=54 9*7=63 9*8=72 9*9=81 \n"
          ]
        }
      ]
    },
    {
      "cell_type": "code",
      "source": [
        "i = 1\n",
        "while i <= 5 :\n",
        "  print('python programming')\n",
        "  i = i + 1"
      ],
      "metadata": {
        "colab": {
          "base_uri": "https://localhost:8080/"
        },
        "id": "gxJUwtDtlRHg",
        "outputId": "6e4dc26f-c828-442c-9dea-5e9a203f195b"
      },
      "execution_count": null,
      "outputs": [
        {
          "output_type": "stream",
          "name": "stdout",
          "text": [
            "python programming\n",
            "python programming\n",
            "python programming\n",
            "python programming\n",
            "python programming\n"
          ]
        }
      ]
    },
    {
      "cell_type": "code",
      "source": [
        "sum = 0\n",
        "i = 1\n",
        "while i <= 5 :\n",
        "  sum = sum + i\n",
        "  print('i의 값 :', i, 'sum의 값 :', sum)\n",
        "  i = i + 1"
      ],
      "metadata": {
        "colab": {
          "base_uri": "https://localhost:8080/"
        },
        "id": "9YMSUdSKoTnl",
        "outputId": "eab0034b-b42e-4fa1-bc7f-375c79e26d0d"
      },
      "execution_count": null,
      "outputs": [
        {
          "output_type": "stream",
          "name": "stdout",
          "text": [
            "i의 값 : 1 sum의 값 : 1\n",
            "i의 값 : 2 sum의 값 : 3\n",
            "i의 값 : 3 sum의 값 : 6\n",
            "i의 값 : 4 sum의 값 : 10\n",
            "i의 값 : 5 sum의 값 : 15\n"
          ]
        }
      ]
    },
    {
      "cell_type": "code",
      "source": [
        "i = 0 \n",
        "s = 'python programming'\n",
        "\n",
        "while i <= (len(s) - 1) :\n",
        "  print(s[i], end=' ')\n",
        "  i = i + 1"
      ],
      "metadata": {
        "colab": {
          "base_uri": "https://localhost:8080/"
        },
        "id": "5uR-WXL2omJL",
        "outputId": "71787251-f204-43d5-eeed-9f076c1c9446"
      },
      "execution_count": null,
      "outputs": [
        {
          "output_type": "stream",
          "name": "stdout",
          "text": [
            "p y t h o n   p r o g r a m m i n g "
          ]
        }
      ]
    },
    {
      "cell_type": "code",
      "source": [
        "i = 0\n",
        "while i < 100 :\n",
        "  print(i, end=' ')\n",
        "  i = i + 1\n",
        "  if i == 10 :\n",
        "    break"
      ],
      "metadata": {
        "colab": {
          "base_uri": "https://localhost:8080/"
        },
        "id": "9ylrZ9Llo-sY",
        "outputId": "fb904566-45cf-4416-e5a2-5fa27ecc7c56"
      },
      "execution_count": null,
      "outputs": [
        {
          "output_type": "stream",
          "name": "stdout",
          "text": [
            "0 1 2 3 4 5 6 7 8 9 "
          ]
        }
      ]
    },
    {
      "cell_type": "code",
      "source": [
        "a = [70, 60, 55, 95, 80, 70, 85, 47, 83, 78]\n",
        "sum = 0\n",
        "avg = 0\n",
        "\n",
        "for i in a :\n",
        "  sum = sum + i\n",
        "  avg = sum / 10\n",
        "\n",
        "print('평균은 %f 입니다' %avg)"
      ],
      "metadata": {
        "colab": {
          "base_uri": "https://localhost:8080/"
        },
        "id": "A8mzZwSDpSV6",
        "outputId": "4cc63436-6fa5-4394-ee7b-f8c9f86c9424"
      },
      "execution_count": null,
      "outputs": [
        {
          "output_type": "stream",
          "name": "stdout",
          "text": [
            "평균은 72.300000 입니다\n"
          ]
        }
      ]
    },
    {
      "cell_type": "code",
      "source": [
        "a = [70, 60, 55, 95, 80, 70, 85, 47, 83, 78]\n",
        "sum = 0\n",
        "avg = 0\n",
        "\n",
        "i = 0\n",
        "while i < 10 :\n",
        "  sum = sum + a[i]\n",
        "  i = i + 1\n",
        "\n",
        "avg = sum / 10\n",
        "print('평균 :', round(avg, 2)) "
      ],
      "metadata": {
        "colab": {
          "base_uri": "https://localhost:8080/"
        },
        "id": "l2HzXgmeqFyz",
        "outputId": "1abf4826-8672-4b8e-9644-f56fe85e38a8"
      },
      "execution_count": null,
      "outputs": [
        {
          "output_type": "stream",
          "name": "stdout",
          "text": [
            "평균 : 72.3\n"
          ]
        }
      ]
    },
    {
      "cell_type": "code",
      "source": [
        "a = []\n",
        "b = [1, 2, 3]\n",
        "c = ['사과', '오렌지', '딸기', '포도', '바나나']\n",
        "d = [1, 2, 'python', '프로그래밍']"
      ],
      "metadata": {
        "id": "UwgRnqpLr-vX"
      },
      "execution_count": null,
      "outputs": []
    },
    {
      "cell_type": "code",
      "source": [
        "a = [1, 2, 3, 4, 5]\n",
        "print(a)\n",
        "print(a[0], a[-1], a[0] + a[2])"
      ],
      "metadata": {
        "colab": {
          "base_uri": "https://localhost:8080/"
        },
        "id": "XzZ9in6ZsVqY",
        "outputId": "d94fda43-9d3b-4e8a-8f4a-48d3552c5d60"
      },
      "execution_count": null,
      "outputs": [
        {
          "output_type": "stream",
          "name": "stdout",
          "text": [
            "[1, 2, 3, 4, 5]\n",
            "1 5 4\n"
          ]
        }
      ]
    },
    {
      "cell_type": "code",
      "source": [
        "a = [1, 2, 3]\n",
        "b = [4, 5, 6]\n",
        "\n",
        "print(a + b)\n",
        "print(a * 3)"
      ],
      "metadata": {
        "colab": {
          "base_uri": "https://localhost:8080/"
        },
        "id": "nFjEHd67snub",
        "outputId": "bf752aa1-aec7-43d7-a9ff-30a00c93aeda"
      },
      "execution_count": null,
      "outputs": [
        {
          "output_type": "stream",
          "name": "stdout",
          "text": [
            "[1, 2, 3, 4, 5, 6]\n",
            "[1, 2, 3, 1, 2, 3, 1, 2, 3]\n"
          ]
        }
      ]
    },
    {
      "cell_type": "code",
      "source": [
        "a = ['a', 'b', 'c']\n",
        "\n",
        "a.append('d')\n",
        "print(a)\n",
        "\n",
        "a.insert(1, 'aa')\n",
        "print(a)"
      ],
      "metadata": {
        "colab": {
          "base_uri": "https://localhost:8080/"
        },
        "id": "jGx1E5c0s2SB",
        "outputId": "8179ae4f-dd10-492f-fd26-bd7e564c77e1"
      },
      "execution_count": null,
      "outputs": [
        {
          "output_type": "stream",
          "name": "stdout",
          "text": [
            "['a', 'b', 'c', 'd']\n",
            "['a', 'aa', 'b', 'c', 'd']\n"
          ]
        }
      ]
    },
    {
      "cell_type": "code",
      "source": [
        ""
      ],
      "metadata": {
        "id": "SUuzRMRitHXO"
      },
      "execution_count": null,
      "outputs": []
    }
  ]
}