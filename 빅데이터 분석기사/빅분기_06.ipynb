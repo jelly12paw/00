{
  "nbformat": 4,
  "nbformat_minor": 0,
  "metadata": {
    "colab": {
      "name": "빅분기_06.ipynb",
      "provenance": [],
      "mount_file_id": "1bGn7DsCrJi0KUdrWzsnYgndzQ4wlg-10",
      "authorship_tag": "ABX9TyPhzeASFy6IX3UcsK45rgVW",
      "include_colab_link": true
    },
    "kernelspec": {
      "name": "python3",
      "display_name": "Python 3"
    },
    "language_info": {
      "name": "python"
    }
  },
  "cells": [
    {
      "cell_type": "markdown",
      "metadata": {
        "id": "view-in-github",
        "colab_type": "text"
      },
      "source": [
        "<a href=\"https://colab.research.google.com/github/jelly12paw/o_o/blob/main/%EB%B9%85%EB%B6%84%EA%B8%B0_06.ipynb\" target=\"_parent\"><img src=\"https://colab.research.google.com/assets/colab-badge.svg\" alt=\"Open In Colab\"/></a>"
      ]
    },
    {
      "cell_type": "markdown",
      "source": [
        "## 제1유형"
      ],
      "metadata": {
        "id": "olhLAZ6kI7A5"
      }
    },
    {
      "cell_type": "code",
      "execution_count": 88,
      "metadata": {
        "id": "VsGprCNf3lsS"
      },
      "outputs": [],
      "source": [
        "import numpy as np\n",
        "import pandas as pd\n",
        "import sklearn\n",
        "import scipy.stats as ss # z스코어\n",
        "\n",
        "from sklearn.preprocessing import MinMaxScaler"
      ]
    },
    {
      "cell_type": "code",
      "source": [
        "df = pd.read_csv('/content/drive/MyDrive/airquality.csv')"
      ],
      "metadata": {
        "id": "rfV16RO2387e"
      },
      "execution_count": 64,
      "outputs": []
    },
    {
      "cell_type": "code",
      "source": [
        "df.info()"
      ],
      "metadata": {
        "colab": {
          "base_uri": "https://localhost:8080/"
        },
        "id": "v-PO6uZ54k6m",
        "outputId": "701cf168-a85c-4a38-d8bc-d0cd75cfec29"
      },
      "execution_count": 65,
      "outputs": [
        {
          "output_type": "stream",
          "name": "stdout",
          "text": [
            "<class 'pandas.core.frame.DataFrame'>\n",
            "RangeIndex: 153 entries, 0 to 152\n",
            "Data columns (total 6 columns):\n",
            " #   Column   Non-Null Count  Dtype  \n",
            "---  ------   --------------  -----  \n",
            " 0   Ozone    116 non-null    float64\n",
            " 1   Solar.R  146 non-null    float64\n",
            " 2   Wind     153 non-null    float64\n",
            " 3   Temp     153 non-null    int64  \n",
            " 4   Month    153 non-null    int64  \n",
            " 5   Day      153 non-null    int64  \n",
            "dtypes: float64(3), int64(3)\n",
            "memory usage: 7.3 KB\n"
          ]
        }
      ]
    },
    {
      "cell_type": "markdown",
      "source": [
        "**1. 결측치 처리 후 평균의 차이**"
      ],
      "metadata": {
        "id": "qRLConKL8sPO"
      }
    },
    {
      "cell_type": "code",
      "source": [
        "# 결측치를 제외한 평균\n",
        "\n",
        "df_o = df['Ozone']\n",
        "\n",
        "df_o.dropna(axis = 0, inplace = True)\n",
        "\n",
        "na_d = df_o.mean()\n",
        "\n",
        "print('결측치를 제외한 평균 :', df_o.mean())"
      ],
      "metadata": {
        "colab": {
          "base_uri": "https://localhost:8080/"
        },
        "id": "Mp6HnL-892Py",
        "outputId": "d621e6ed-19d7-40d2-cfb8-cd1c6ec788da"
      },
      "execution_count": 66,
      "outputs": [
        {
          "output_type": "stream",
          "name": "stdout",
          "text": [
            "결측치를 제외한 평균 : 42.12931034482759\n"
          ]
        }
      ]
    },
    {
      "cell_type": "code",
      "source": [
        "# 결측치를 0으로 대체한 평균\n",
        "\n",
        "df_c = df['Ozone']\n",
        "\n",
        "df_c.fillna(0, inplace = True)\n",
        "\n",
        "na_0 = df_c.mean()\n",
        "\n",
        "print('결측치를 0으로 대체한 평균 :', df_c.mean())"
      ],
      "metadata": {
        "colab": {
          "base_uri": "https://localhost:8080/"
        },
        "id": "gAql6B1O4nzO",
        "outputId": "99867890-ab93-4804-a1e3-c81c1e1638aa"
      },
      "execution_count": 67,
      "outputs": [
        {
          "output_type": "stream",
          "name": "stdout",
          "text": [
            "결측치를 0으로 대체한 평균 : 31.941176470588236\n"
          ]
        }
      ]
    },
    {
      "cell_type": "code",
      "source": [
        "# 각 평균의 차이\n",
        "\n",
        "print('평균의 차이 :', na_d - na_0)"
      ],
      "metadata": {
        "colab": {
          "base_uri": "https://localhost:8080/"
        },
        "id": "kflW21I_-3oI",
        "outputId": "e18131db-a94e-4bda-fc12-406a44e1fefa"
      },
      "execution_count": 68,
      "outputs": [
        {
          "output_type": "stream",
          "name": "stdout",
          "text": [
            "평균의 차이 : 10.188133874239352\n"
          ]
        }
      ]
    },
    {
      "cell_type": "markdown",
      "source": [
        "**2. 정규화 수행 후 평균의 차이**"
      ],
      "metadata": {
        "id": "dPqrzElA_75J"
      }
    },
    {
      "cell_type": "code",
      "source": [
        "# 최소최대 정규화\n",
        "\n",
        "df_1 = df\n",
        "mm = MinMaxScaler()\n",
        "\n",
        "df_1[['Wind']] = mm.fit_transform(df_1[['Wind']])\n",
        "mm_mean = df_1['Wind'].mean()\n",
        "\n",
        "print('최소최대 정규화 평균 :', mm_mean)"
      ],
      "metadata": {
        "colab": {
          "base_uri": "https://localhost:8080/"
        },
        "id": "cURXvtx9_n_X",
        "outputId": "53902071-d34f-45c6-f588-c882da007563"
      },
      "execution_count": 98,
      "outputs": [
        {
          "output_type": "stream",
          "name": "stdout",
          "text": [
            "최소최대 정규화 평균 : 0.4346061231510148\n"
          ]
        }
      ]
    },
    {
      "cell_type": "code",
      "source": [
        "# Z-score 정규화\n",
        "\n",
        "df_2 = df\n",
        "\n",
        "z_mean = ss.zscore(df_2['Wind']).mean()\n",
        "\n",
        "print('Z-score 평균 :', z_mean)"
      ],
      "metadata": {
        "colab": {
          "base_uri": "https://localhost:8080/"
        },
        "id": "RlfKQzRqGqg5",
        "outputId": "7c360c9d-abeb-48c9-a574-9e0a8bcb25a2"
      },
      "execution_count": 101,
      "outputs": [
        {
          "output_type": "stream",
          "name": "stdout",
          "text": [
            "Z-score 평균 : 3.2508491178566673e-16\n"
          ]
        }
      ]
    },
    {
      "cell_type": "code",
      "source": [
        "print('평균의 차이:', mm_mean - z_mean)"
      ],
      "metadata": {
        "colab": {
          "base_uri": "https://localhost:8080/"
        },
        "id": "W6pP1_kOHsXW",
        "outputId": "23928278-7cbf-46df-bec3-6c72c94c28dd"
      },
      "execution_count": 103,
      "outputs": [
        {
          "output_type": "stream",
          "name": "stdout",
          "text": [
            "평균의 차이: 0.4346061231510145\n"
          ]
        }
      ]
    },
    {
      "cell_type": "markdown",
      "source": [
        "**3. 월별 평균 기온**"
      ],
      "metadata": {
        "id": "NAiXXF7fCGIF"
      }
    },
    {
      "cell_type": "code",
      "source": [
        "df_mon = df.groupby('Month').mean()\n",
        "\n",
        "df_mon['Temp']"
      ],
      "metadata": {
        "colab": {
          "base_uri": "https://localhost:8080/"
        },
        "id": "QcWCbwGRAeon",
        "outputId": "d86bdeea-276f-4f9d-956d-611f5a72392c"
      },
      "execution_count": 83,
      "outputs": [
        {
          "output_type": "execute_result",
          "data": {
            "text/plain": [
              "Month\n",
              "5    65.548387\n",
              "6    79.100000\n",
              "7    83.903226\n",
              "8    83.967742\n",
              "9    76.900000\n",
              "Name: Temp, dtype: float64"
            ]
          },
          "metadata": {},
          "execution_count": 83
        }
      ]
    },
    {
      "cell_type": "code",
      "source": [
        "print(df.groupby('Month')['Temp'].mean())"
      ],
      "metadata": {
        "colab": {
          "base_uri": "https://localhost:8080/"
        },
        "id": "48UrUcABCLUB",
        "outputId": "2219a030-8917-4a97-fe40-e70f911108f4"
      },
      "execution_count": 84,
      "outputs": [
        {
          "output_type": "stream",
          "name": "stdout",
          "text": [
            "Month\n",
            "5    65.548387\n",
            "6    79.100000\n",
            "7    83.903226\n",
            "8    83.967742\n",
            "9    76.900000\n",
            "Name: Temp, dtype: float64\n"
          ]
        }
      ]
    },
    {
      "cell_type": "markdown",
      "source": [
        "## 제2유형"
      ],
      "metadata": {
        "id": "sGkYN67TI1f6"
      }
    },
    {
      "cell_type": "code",
      "source": [
        "import matplotlib.pyplot as plt\n",
        "import sklearn.preprocessing as preprocessing\n",
        "\n",
        "from sklearn.metrics import confusion_matrix\n",
        "from sklearn.neighbors import KNeighborsClassifier # KNN\n",
        "from sklearn.model_selection import train_test_split\n",
        "from sklearn.metrics import accuracy_score"
      ],
      "metadata": {
        "id": "-PRG-d4nI1-m"
      },
      "execution_count": 116,
      "outputs": []
    },
    {
      "cell_type": "code",
      "source": [
        "df = pd.read_csv('/content/drive/MyDrive/Bank_Personal_Loan_Modelling.csv')"
      ],
      "metadata": {
        "id": "27Jp1jzXJoy1"
      },
      "execution_count": 107,
      "outputs": []
    },
    {
      "cell_type": "code",
      "source": [
        "df.info()"
      ],
      "metadata": {
        "colab": {
          "base_uri": "https://localhost:8080/"
        },
        "id": "sYUhRcU1KJ56",
        "outputId": "c1456f22-2c8f-473d-e29c-04b0e4e6e7ec"
      },
      "execution_count": 108,
      "outputs": [
        {
          "output_type": "stream",
          "name": "stdout",
          "text": [
            "<class 'pandas.core.frame.DataFrame'>\n",
            "RangeIndex: 5000 entries, 0 to 4999\n",
            "Data columns (total 14 columns):\n",
            " #   Column              Non-Null Count  Dtype  \n",
            "---  ------              --------------  -----  \n",
            " 0   ID                  5000 non-null   int64  \n",
            " 1   Age                 5000 non-null   int64  \n",
            " 2   Experience          5000 non-null   int64  \n",
            " 3   Income              5000 non-null   int64  \n",
            " 4   ZIP Code            5000 non-null   int64  \n",
            " 5   Family              5000 non-null   int64  \n",
            " 6   CCAvg               5000 non-null   float64\n",
            " 7   Education           5000 non-null   int64  \n",
            " 8   Mortgage            5000 non-null   int64  \n",
            " 9   Personal Loan       5000 non-null   int64  \n",
            " 10  Securities Account  5000 non-null   int64  \n",
            " 11  CD Account          5000 non-null   int64  \n",
            " 12  Online              5000 non-null   int64  \n",
            " 13  CreditCard          5000 non-null   int64  \n",
            "dtypes: float64(1), int64(13)\n",
            "memory usage: 547.0 KB\n"
          ]
        }
      ]
    },
    {
      "cell_type": "code",
      "source": [
        "# 훈련/테스트 데이터셋 분류 (7:3)\n",
        "\n",
        "x = df[['Age', 'Experience', 'Income', 'Family', 'CCAvg', 'Education', 'Mortgage', 'Securities Account', 'CD Account', 'Online', 'CreditCard']]\n",
        "y = df[['Personal Loan']]\n",
        "\n",
        "x_train, x_test, y_train, y_test = train_test_split(x, y, test_size = 0.3, stratify = y, random_state = 1234)\n",
        "\n",
        "print(x_train.shape, x_test.shape, y_train.shape, y_test.shape)"
      ],
      "metadata": {
        "colab": {
          "base_uri": "https://localhost:8080/"
        },
        "id": "6ANVMi2uKcen",
        "outputId": "6cd89c71-c814-4af1-d26c-f1860ba5b4fd"
      },
      "execution_count": 117,
      "outputs": [
        {
          "output_type": "stream",
          "name": "stdout",
          "text": [
            "(3500, 11) (1500, 11) (3500, 1) (1500, 1)\n"
          ]
        }
      ]
    },
    {
      "cell_type": "code",
      "source": [
        "# 훈련 데이터 정규화\n",
        "\n",
        "pre = preprocessing.Normalizer()\n",
        "\n",
        "x_train = pre.fit_transform(x_train)\n",
        "x_test = pre.transform(x_test)"
      ],
      "metadata": {
        "id": "LBqJc-ZCKfgL"
      },
      "execution_count": 118,
      "outputs": []
    },
    {
      "cell_type": "code",
      "source": [
        "# 최적의 K값을 구한 후 시각화\n",
        "\n",
        "train_acc = []\n",
        "test_acc = []\n",
        "\n",
        "for k in range(1, 25) :\n",
        "  knn = KNeighborsClassifier(n_neighbors = k)\n",
        "  knn.fit(x_train, y_train)\n",
        "\n",
        "  train_acc.append(knn.score(x_train, y_train))\n",
        "  test_acc.append(knn.score(x_test, y_test))\n",
        "\n",
        "plt.plot(train_acc, label = 'Train ACC')\n",
        "plt.plot(test_acc, label = 'Test ACC')\n",
        "plt.ylabel('ACC')\n",
        "plt.xlabel('n_neighbors')\n",
        "plt.legend()\n"
      ],
      "metadata": {
        "colab": {
          "base_uri": "https://localhost:8080/",
          "height": 1000
        },
        "id": "QsPqXzEHQogG",
        "outputId": "9321e776-314b-4c7a-f077-9335c14aee35"
      },
      "execution_count": 119,
      "outputs": [
        {
          "output_type": "stream",
          "name": "stderr",
          "text": [
            "/usr/local/lib/python3.7/dist-packages/sklearn/neighbors/_classification.py:198: DataConversionWarning: A column-vector y was passed when a 1d array was expected. Please change the shape of y to (n_samples,), for example using ravel().\n",
            "  return self._fit(X, y)\n",
            "/usr/local/lib/python3.7/dist-packages/sklearn/neighbors/_classification.py:198: DataConversionWarning: A column-vector y was passed when a 1d array was expected. Please change the shape of y to (n_samples,), for example using ravel().\n",
            "  return self._fit(X, y)\n",
            "/usr/local/lib/python3.7/dist-packages/sklearn/neighbors/_classification.py:198: DataConversionWarning: A column-vector y was passed when a 1d array was expected. Please change the shape of y to (n_samples,), for example using ravel().\n",
            "  return self._fit(X, y)\n",
            "/usr/local/lib/python3.7/dist-packages/sklearn/neighbors/_classification.py:198: DataConversionWarning: A column-vector y was passed when a 1d array was expected. Please change the shape of y to (n_samples,), for example using ravel().\n",
            "  return self._fit(X, y)\n",
            "/usr/local/lib/python3.7/dist-packages/sklearn/neighbors/_classification.py:198: DataConversionWarning: A column-vector y was passed when a 1d array was expected. Please change the shape of y to (n_samples,), for example using ravel().\n",
            "  return self._fit(X, y)\n",
            "/usr/local/lib/python3.7/dist-packages/sklearn/neighbors/_classification.py:198: DataConversionWarning: A column-vector y was passed when a 1d array was expected. Please change the shape of y to (n_samples,), for example using ravel().\n",
            "  return self._fit(X, y)\n",
            "/usr/local/lib/python3.7/dist-packages/sklearn/neighbors/_classification.py:198: DataConversionWarning: A column-vector y was passed when a 1d array was expected. Please change the shape of y to (n_samples,), for example using ravel().\n",
            "  return self._fit(X, y)\n",
            "/usr/local/lib/python3.7/dist-packages/sklearn/neighbors/_classification.py:198: DataConversionWarning: A column-vector y was passed when a 1d array was expected. Please change the shape of y to (n_samples,), for example using ravel().\n",
            "  return self._fit(X, y)\n",
            "/usr/local/lib/python3.7/dist-packages/sklearn/neighbors/_classification.py:198: DataConversionWarning: A column-vector y was passed when a 1d array was expected. Please change the shape of y to (n_samples,), for example using ravel().\n",
            "  return self._fit(X, y)\n",
            "/usr/local/lib/python3.7/dist-packages/sklearn/neighbors/_classification.py:198: DataConversionWarning: A column-vector y was passed when a 1d array was expected. Please change the shape of y to (n_samples,), for example using ravel().\n",
            "  return self._fit(X, y)\n",
            "/usr/local/lib/python3.7/dist-packages/sklearn/neighbors/_classification.py:198: DataConversionWarning: A column-vector y was passed when a 1d array was expected. Please change the shape of y to (n_samples,), for example using ravel().\n",
            "  return self._fit(X, y)\n",
            "/usr/local/lib/python3.7/dist-packages/sklearn/neighbors/_classification.py:198: DataConversionWarning: A column-vector y was passed when a 1d array was expected. Please change the shape of y to (n_samples,), for example using ravel().\n",
            "  return self._fit(X, y)\n",
            "/usr/local/lib/python3.7/dist-packages/sklearn/neighbors/_classification.py:198: DataConversionWarning: A column-vector y was passed when a 1d array was expected. Please change the shape of y to (n_samples,), for example using ravel().\n",
            "  return self._fit(X, y)\n",
            "/usr/local/lib/python3.7/dist-packages/sklearn/neighbors/_classification.py:198: DataConversionWarning: A column-vector y was passed when a 1d array was expected. Please change the shape of y to (n_samples,), for example using ravel().\n",
            "  return self._fit(X, y)\n",
            "/usr/local/lib/python3.7/dist-packages/sklearn/neighbors/_classification.py:198: DataConversionWarning: A column-vector y was passed when a 1d array was expected. Please change the shape of y to (n_samples,), for example using ravel().\n",
            "  return self._fit(X, y)\n",
            "/usr/local/lib/python3.7/dist-packages/sklearn/neighbors/_classification.py:198: DataConversionWarning: A column-vector y was passed when a 1d array was expected. Please change the shape of y to (n_samples,), for example using ravel().\n",
            "  return self._fit(X, y)\n",
            "/usr/local/lib/python3.7/dist-packages/sklearn/neighbors/_classification.py:198: DataConversionWarning: A column-vector y was passed when a 1d array was expected. Please change the shape of y to (n_samples,), for example using ravel().\n",
            "  return self._fit(X, y)\n",
            "/usr/local/lib/python3.7/dist-packages/sklearn/neighbors/_classification.py:198: DataConversionWarning: A column-vector y was passed when a 1d array was expected. Please change the shape of y to (n_samples,), for example using ravel().\n",
            "  return self._fit(X, y)\n",
            "/usr/local/lib/python3.7/dist-packages/sklearn/neighbors/_classification.py:198: DataConversionWarning: A column-vector y was passed when a 1d array was expected. Please change the shape of y to (n_samples,), for example using ravel().\n",
            "  return self._fit(X, y)\n",
            "/usr/local/lib/python3.7/dist-packages/sklearn/neighbors/_classification.py:198: DataConversionWarning: A column-vector y was passed when a 1d array was expected. Please change the shape of y to (n_samples,), for example using ravel().\n",
            "  return self._fit(X, y)\n",
            "/usr/local/lib/python3.7/dist-packages/sklearn/neighbors/_classification.py:198: DataConversionWarning: A column-vector y was passed when a 1d array was expected. Please change the shape of y to (n_samples,), for example using ravel().\n",
            "  return self._fit(X, y)\n",
            "/usr/local/lib/python3.7/dist-packages/sklearn/neighbors/_classification.py:198: DataConversionWarning: A column-vector y was passed when a 1d array was expected. Please change the shape of y to (n_samples,), for example using ravel().\n",
            "  return self._fit(X, y)\n",
            "/usr/local/lib/python3.7/dist-packages/sklearn/neighbors/_classification.py:198: DataConversionWarning: A column-vector y was passed when a 1d array was expected. Please change the shape of y to (n_samples,), for example using ravel().\n",
            "  return self._fit(X, y)\n",
            "/usr/local/lib/python3.7/dist-packages/sklearn/neighbors/_classification.py:198: DataConversionWarning: A column-vector y was passed when a 1d array was expected. Please change the shape of y to (n_samples,), for example using ravel().\n",
            "  return self._fit(X, y)\n"
          ]
        },
        {
          "output_type": "execute_result",
          "data": {
            "text/plain": [
              "<matplotlib.legend.Legend at 0x7fc123b74c50>"
            ]
          },
          "metadata": {},
          "execution_count": 119
        },
        {
          "output_type": "display_data",
          "data": {
            "text/plain": [
              "<Figure size 432x288 with 1 Axes>"
            ],
            "image/png": "[encoded data removed]"
          },
          "metadata": {
            "needs_background": "light"
          }
        }
      ]
    },
    {
      "cell_type": "code",
      "source": [
        "test_acc"
      ],
      "metadata": {
        "colab": {
          "base_uri": "https://localhost:8080/"
        },
        "id": "tnPhFsQ4SEUE",
        "outputId": "60a31a51-dd7b-480c-cfd6-fdaee7cc4f5a"
      },
      "execution_count": 122,
      "outputs": [
        {
          "output_type": "execute_result",
          "data": {
            "text/plain": [
              "[0.9213333333333333,\n",
              " 0.9213333333333333,\n",
              " 0.9246666666666666,\n",
              " 0.92,\n",
              " 0.926,\n",
              " 0.916,\n",
              " 0.9166666666666666,\n",
              " 0.9173333333333333,\n",
              " 0.9166666666666666,\n",
              " 0.918,\n",
              " 0.916,\n",
              " 0.914,\n",
              " 0.914,\n",
              " 0.91,\n",
              " 0.914,\n",
              " 0.9093333333333333,\n",
              " 0.91,\n",
              " 0.908,\n",
              " 0.908,\n",
              " 0.9093333333333333,\n",
              " 0.9093333333333333,\n",
              " 0.9073333333333333,\n",
              " 0.9073333333333333,\n",
              " 0.9086666666666666]"
            ]
          },
          "metadata": {},
          "execution_count": 122
        }
      ]
    }
  ]
}
